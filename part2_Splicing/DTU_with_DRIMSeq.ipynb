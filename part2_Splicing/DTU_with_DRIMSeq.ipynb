{
 "cells": [
  {
   "cell_type": "markdown",
   "metadata": {},
   "source": [
    "# Intro to DTU"
   ]
  },
  {
   "cell_type": "markdown",
   "metadata": {},
   "source": [
    "First, let's load the transcript abundance values computed with Salmon"
   ]
  },
  {
   "cell_type": "markdown",
   "metadata": {},
   "source": [
    "We use `rtracklayer` this lib to load and handle GTF files\n",
    "and `stringr` to make string operations easier "
   ]
  },
  {
   "cell_type": "code",
   "execution_count": 1,
   "metadata": {},
   "outputs": [
    {
     "name": "stderr",
     "output_type": "stream",
     "text": [
      "Loading required package: GenomicRanges\n",
      "\n",
      "Loading required package: stats4\n",
      "\n",
      "Loading required package: BiocGenerics\n",
      "\n",
      "Loading required package: parallel\n",
      "\n",
      "\n",
      "Attaching package: ‘BiocGenerics’\n",
      "\n",
      "\n",
      "The following objects are masked from ‘package:parallel’:\n",
      "\n",
      "    clusterApply, clusterApplyLB, clusterCall, clusterEvalQ,\n",
      "    clusterExport, clusterMap, parApply, parCapply, parLapply,\n",
      "    parLapplyLB, parRapply, parSapply, parSapplyLB\n",
      "\n",
      "\n",
      "The following objects are masked from ‘package:stats’:\n",
      "\n",
      "    IQR, mad, sd, var, xtabs\n",
      "\n",
      "\n",
      "The following objects are masked from ‘package:base’:\n",
      "\n",
      "    anyDuplicated, append, as.data.frame, basename, cbind, colnames,\n",
      "    dirname, do.call, duplicated, eval, evalq, Filter, Find, get, grep,\n",
      "    grepl, intersect, is.unsorted, lapply, Map, mapply, match, mget,\n",
      "    order, paste, pmax, pmax.int, pmin, pmin.int, Position, rank,\n",
      "    rbind, Reduce, rownames, sapply, setdiff, sort, table, tapply,\n",
      "    union, unique, unsplit, which.max, which.min\n",
      "\n",
      "\n",
      "Loading required package: S4Vectors\n",
      "\n",
      "\n",
      "Attaching package: ‘S4Vectors’\n",
      "\n",
      "\n",
      "The following object is masked from ‘package:base’:\n",
      "\n",
      "    expand.grid\n",
      "\n",
      "\n",
      "Loading required package: IRanges\n",
      "\n",
      "Loading required package: GenomeInfoDb\n",
      "\n"
     ]
    }
   ],
   "source": [
    "library(rtracklayer)\n",
    "library(stringr)"
   ]
  },
  {
   "cell_type": "markdown",
   "metadata": {},
   "source": [
    "Creates tx2gene, a object the holds the mapping between genes and transcripts"
   ]
  },
  {
   "cell_type": "code",
   "execution_count": 2,
   "metadata": {},
   "outputs": [],
   "source": [
    "gtf.path <- '/biodb/genomes/homo_sapiens/GRCh38_96/GRCh38.96.gtf'\n",
    "gtf <- rtracklayer::import(gtf.path)"
   ]
  },
  {
   "cell_type": "code",
   "execution_count": 3,
   "metadata": {},
   "outputs": [
    {
     "data": {
      "text/plain": [
       "GRanges object with 6 ranges and 22 metadata columns:\n",
       "      seqnames      ranges strand |   source       type     score     phase\n",
       "         <Rle>   <IRanges>  <Rle> | <factor>   <factor> <numeric> <integer>\n",
       "  [1]        1 11869-14409      + |   havana gene              NA      <NA>\n",
       "  [2]        1 11869-14409      + |   havana transcript        NA      <NA>\n",
       "  [3]        1 11869-12227      + |   havana exon              NA      <NA>\n",
       "  [4]        1 12613-12721      + |   havana exon              NA      <NA>\n",
       "  [5]        1 13221-14409      + |   havana exon              NA      <NA>\n",
       "  [6]        1 12010-13670      + |   havana transcript        NA      <NA>\n",
       "              gene_id gene_version   gene_name gene_source\n",
       "          <character>  <character> <character> <character>\n",
       "  [1] ENSG00000223972            5     DDX11L1      havana\n",
       "  [2] ENSG00000223972            5     DDX11L1      havana\n",
       "  [3] ENSG00000223972            5     DDX11L1      havana\n",
       "  [4] ENSG00000223972            5     DDX11L1      havana\n",
       "  [5] ENSG00000223972            5     DDX11L1      havana\n",
       "  [6] ENSG00000223972            5     DDX11L1      havana\n",
       "                gene_biotype   transcript_id transcript_version transcript_name\n",
       "                 <character>     <character>        <character>     <character>\n",
       "  [1] transcribed_unproces..            <NA>               <NA>            <NA>\n",
       "  [2] transcribed_unproces.. ENST00000456328                  2     DDX11L1-202\n",
       "  [3] transcribed_unproces.. ENST00000456328                  2     DDX11L1-202\n",
       "  [4] transcribed_unproces.. ENST00000456328                  2     DDX11L1-202\n",
       "  [5] transcribed_unproces.. ENST00000456328                  2     DDX11L1-202\n",
       "  [6] transcribed_unproces.. ENST00000450305                  2     DDX11L1-201\n",
       "      transcript_source     transcript_biotype         tag\n",
       "            <character>            <character> <character>\n",
       "  [1]              <NA>                   <NA>        <NA>\n",
       "  [2]            havana   processed_transcript       basic\n",
       "  [3]            havana   processed_transcript       basic\n",
       "  [4]            havana   processed_transcript       basic\n",
       "  [5]            havana   processed_transcript       basic\n",
       "  [6]            havana transcribed_unproces..       basic\n",
       "      transcript_support_level exon_number         exon_id exon_version\n",
       "                   <character> <character>     <character>  <character>\n",
       "  [1]                     <NA>        <NA>            <NA>         <NA>\n",
       "  [2]                        1        <NA>            <NA>         <NA>\n",
       "  [3]                        1           1 ENSE00002234944            1\n",
       "  [4]                        1           2 ENSE00003582793            1\n",
       "  [5]                        1           3 ENSE00002312635            1\n",
       "  [6]                       NA        <NA>            <NA>         <NA>\n",
       "       protein_id protein_version     ccds_id\n",
       "      <character>     <character> <character>\n",
       "  [1]        <NA>            <NA>        <NA>\n",
       "  [2]        <NA>            <NA>        <NA>\n",
       "  [3]        <NA>            <NA>        <NA>\n",
       "  [4]        <NA>            <NA>        <NA>\n",
       "  [5]        <NA>            <NA>        <NA>\n",
       "  [6]        <NA>            <NA>        <NA>\n",
       "  -------\n",
       "  seqinfo: 47 sequences from an unspecified genome; no seqlengths"
      ]
     },
     "metadata": {},
     "output_type": "display_data"
    }
   ],
   "source": [
    "head(gtf)"
   ]
  },
  {
   "cell_type": "markdown",
   "metadata": {},
   "source": [
    "Here we load the Salmon results using [`tximport`](https://bioconductor.org/packages/release/bioc/html/tximport.html)"
   ]
  },
  {
   "cell_type": "code",
   "execution_count": 4,
   "metadata": {},
   "outputs": [],
   "source": [
    "tx2gene <- as.data.frame(gtf)[\n",
    "    , c('gene_id', 'transcript_id', 'gene_name', 'transcript_name')]"
   ]
  },
  {
   "cell_type": "code",
   "execution_count": 5,
   "metadata": {},
   "outputs": [],
   "source": [
    "library(tximport)"
   ]
  },
  {
   "cell_type": "code",
   "execution_count": 6,
   "metadata": {},
   "outputs": [
    {
     "name": "stderr",
     "output_type": "stream",
     "text": [
      "reading in files with read_tsv\n",
      "\n",
      "1 \n",
      "2 \n",
      "3 \n",
      "4 \n",
      "\n",
      "\n"
     ]
    }
   ],
   "source": [
    "files <- Sys.glob('salmon/*/quant.sf')\n",
    "txi <- tximport(\n",
    "  files,\n",
    "  type = \"salmon\",\n",
    "  countsFromAbundance = \"scaledTPM\",\n",
    "  txOut = TRUE\n",
    ")\n",
    "\n",
    "cts <- txi$counts"
   ]
  },
  {
   "cell_type": "markdown",
   "metadata": {},
   "source": [
    "If you know R, you can subset or filter transcript in the next step. **But** be careful, some operations may break the assumptions of the program you are using. Here we only change the conditions names, which we extract from the file names we use as input"
   ]
  },
  {
   "cell_type": "code",
   "execution_count": 7,
   "metadata": {},
   "outputs": [
    {
     "data": {
      "text/html": [
       "<table class=\"dataframe\">\n",
       "<caption>A matrix: 6 × 4 of type dbl</caption>\n",
       "<tbody>\n",
       "\t<tr><th scope=row>ENST00000631435.1</th><td>0</td><td>0</td><td>0</td><td>0</td></tr>\n",
       "\t<tr><th scope=row>ENST00000434970.2</th><td>0</td><td>0</td><td>0</td><td>0</td></tr>\n",
       "\t<tr><th scope=row>ENST00000448914.1</th><td>0</td><td>0</td><td>0</td><td>0</td></tr>\n",
       "\t<tr><th scope=row>ENST00000415118.1</th><td>0</td><td>0</td><td>0</td><td>0</td></tr>\n",
       "\t<tr><th scope=row>ENST00000604446.1</th><td>0</td><td>0</td><td>0</td><td>0</td></tr>\n",
       "\t<tr><th scope=row>ENST00000603693.1</th><td>0</td><td>0</td><td>0</td><td>0</td></tr>\n",
       "</tbody>\n",
       "</table>\n"
      ],
      "text/latex": [
       "A matrix: 6 × 4 of type dbl\n",
       "\\begin{tabular}{r|llll}\n",
       "\tENST00000631435.1 & 0 & 0 & 0 & 0\\\\\n",
       "\tENST00000434970.2 & 0 & 0 & 0 & 0\\\\\n",
       "\tENST00000448914.1 & 0 & 0 & 0 & 0\\\\\n",
       "\tENST00000415118.1 & 0 & 0 & 0 & 0\\\\\n",
       "\tENST00000604446.1 & 0 & 0 & 0 & 0\\\\\n",
       "\tENST00000603693.1 & 0 & 0 & 0 & 0\\\\\n",
       "\\end{tabular}\n"
      ],
      "text/markdown": [
       "\n",
       "A matrix: 6 × 4 of type dbl\n",
       "\n",
       "| ENST00000631435.1 | 0 | 0 | 0 | 0 |\n",
       "| ENST00000434970.2 | 0 | 0 | 0 | 0 |\n",
       "| ENST00000448914.1 | 0 | 0 | 0 | 0 |\n",
       "| ENST00000415118.1 | 0 | 0 | 0 | 0 |\n",
       "| ENST00000604446.1 | 0 | 0 | 0 | 0 |\n",
       "| ENST00000603693.1 | 0 | 0 | 0 | 0 |\n",
       "\n"
      ],
      "text/plain": [
       "                  [,1] [,2] [,3] [,4]\n",
       "ENST00000631435.1 0    0    0    0   \n",
       "ENST00000434970.2 0    0    0    0   \n",
       "ENST00000448914.1 0    0    0    0   \n",
       "ENST00000415118.1 0    0    0    0   \n",
       "ENST00000604446.1 0    0    0    0   \n",
       "ENST00000603693.1 0    0    0    0   "
      ]
     },
     "metadata": {},
     "output_type": "display_data"
    }
   ],
   "source": [
    "head(txi$counts)"
   ]
  },
  {
   "cell_type": "code",
   "execution_count": 8,
   "metadata": {},
   "outputs": [],
   "source": [
    "colnames(cts) <- str_split(files, '/', simplify = TRUE)[, 2]"
   ]
  },
  {
   "cell_type": "code",
   "execution_count": 9,
   "metadata": {},
   "outputs": [],
   "source": [
    "rownames(cts) <- str_split(rownames(cts), '\\\\.', simplify = TRUE)[, 1]"
   ]
  },
  {
   "cell_type": "code",
   "execution_count": 10,
   "metadata": {},
   "outputs": [
    {
     "data": {
      "text/html": [
       "<table class=\"dataframe\">\n",
       "<caption>A matrix: 6 × 4 of type dbl</caption>\n",
       "<thead>\n",
       "\t<tr><th></th><th scope=col>EGF_1</th><th scope=col>EGF_2</th><th scope=col>PBS_1</th><th scope=col>PBS_2</th></tr>\n",
       "</thead>\n",
       "<tbody>\n",
       "\t<tr><th scope=row>ENST00000631435</th><td>0</td><td>0</td><td>0</td><td>0</td></tr>\n",
       "\t<tr><th scope=row>ENST00000434970</th><td>0</td><td>0</td><td>0</td><td>0</td></tr>\n",
       "\t<tr><th scope=row>ENST00000448914</th><td>0</td><td>0</td><td>0</td><td>0</td></tr>\n",
       "\t<tr><th scope=row>ENST00000415118</th><td>0</td><td>0</td><td>0</td><td>0</td></tr>\n",
       "\t<tr><th scope=row>ENST00000604446</th><td>0</td><td>0</td><td>0</td><td>0</td></tr>\n",
       "\t<tr><th scope=row>ENST00000603693</th><td>0</td><td>0</td><td>0</td><td>0</td></tr>\n",
       "</tbody>\n",
       "</table>\n"
      ],
      "text/latex": [
       "A matrix: 6 × 4 of type dbl\n",
       "\\begin{tabular}{r|llll}\n",
       "  & EGF\\_1 & EGF\\_2 & PBS\\_1 & PBS\\_2\\\\\n",
       "\\hline\n",
       "\tENST00000631435 & 0 & 0 & 0 & 0\\\\\n",
       "\tENST00000434970 & 0 & 0 & 0 & 0\\\\\n",
       "\tENST00000448914 & 0 & 0 & 0 & 0\\\\\n",
       "\tENST00000415118 & 0 & 0 & 0 & 0\\\\\n",
       "\tENST00000604446 & 0 & 0 & 0 & 0\\\\\n",
       "\tENST00000603693 & 0 & 0 & 0 & 0\\\\\n",
       "\\end{tabular}\n"
      ],
      "text/markdown": [
       "\n",
       "A matrix: 6 × 4 of type dbl\n",
       "\n",
       "| <!--/--> | EGF_1 | EGF_2 | PBS_1 | PBS_2 |\n",
       "|---|---|---|---|---|\n",
       "| ENST00000631435 | 0 | 0 | 0 | 0 |\n",
       "| ENST00000434970 | 0 | 0 | 0 | 0 |\n",
       "| ENST00000448914 | 0 | 0 | 0 | 0 |\n",
       "| ENST00000415118 | 0 | 0 | 0 | 0 |\n",
       "| ENST00000604446 | 0 | 0 | 0 | 0 |\n",
       "| ENST00000603693 | 0 | 0 | 0 | 0 |\n",
       "\n"
      ],
      "text/plain": [
       "                EGF_1 EGF_2 PBS_1 PBS_2\n",
       "ENST00000631435 0     0     0     0    \n",
       "ENST00000434970 0     0     0     0    \n",
       "ENST00000448914 0     0     0     0    \n",
       "ENST00000415118 0     0     0     0    \n",
       "ENST00000604446 0     0     0     0    \n",
       "ENST00000603693 0     0     0     0    "
      ]
     },
     "metadata": {},
     "output_type": "display_data"
    }
   ],
   "source": [
    "head(cts)"
   ]
  },
  {
   "cell_type": "code",
   "execution_count": 11,
   "metadata": {},
   "outputs": [
    {
     "data": {
      "text/html": [
       "<table class=\"dataframe\">\n",
       "<caption>A matrix: 6 × 4 of type dbl</caption>\n",
       "<thead>\n",
       "\t<tr><th></th><th scope=col>EGF_1</th><th scope=col>EGF_2</th><th scope=col>PBS_1</th><th scope=col>PBS_2</th></tr>\n",
       "</thead>\n",
       "<tbody>\n",
       "\t<tr><th scope=row>ENST00000419783</th><td>  63.314179</td><td>  43.97932</td><td>  62.001933</td><td>  45.084436</td></tr>\n",
       "\t<tr><th scope=row>ENST00000643797</th><td>   0.000000</td><td>  24.17524</td><td>   6.911643</td><td>   0.000000</td></tr>\n",
       "\t<tr><th scope=row>ENST00000651740</th><td>  22.432606</td><td>   0.00000</td><td>   0.000000</td><td>   0.000000</td></tr>\n",
       "\t<tr><th scope=row>ENST00000457194</th><td>   1.273328</td><td>   0.00000</td><td>   0.000000</td><td>   0.000000</td></tr>\n",
       "\t<tr><th scope=row>ENST00000390289</th><td>   0.000000</td><td>   0.00000</td><td>  10.902861</td><td>   5.568154</td></tr>\n",
       "\t<tr><th scope=row>ENST00000361390</th><td>1639.969021</td><td>1648.77401</td><td>1528.241587</td><td>1595.848738</td></tr>\n",
       "</tbody>\n",
       "</table>\n"
      ],
      "text/latex": [
       "A matrix: 6 × 4 of type dbl\n",
       "\\begin{tabular}{r|llll}\n",
       "  & EGF\\_1 & EGF\\_2 & PBS\\_1 & PBS\\_2\\\\\n",
       "\\hline\n",
       "\tENST00000419783 &   63.314179 &   43.97932 &   62.001933 &   45.084436\\\\\n",
       "\tENST00000643797 &    0.000000 &   24.17524 &    6.911643 &    0.000000\\\\\n",
       "\tENST00000651740 &   22.432606 &    0.00000 &    0.000000 &    0.000000\\\\\n",
       "\tENST00000457194 &    1.273328 &    0.00000 &    0.000000 &    0.000000\\\\\n",
       "\tENST00000390289 &    0.000000 &    0.00000 &   10.902861 &    5.568154\\\\\n",
       "\tENST00000361390 & 1639.969021 & 1648.77401 & 1528.241587 & 1595.848738\\\\\n",
       "\\end{tabular}\n"
      ],
      "text/markdown": [
       "\n",
       "A matrix: 6 × 4 of type dbl\n",
       "\n",
       "| <!--/--> | EGF_1 | EGF_2 | PBS_1 | PBS_2 |\n",
       "|---|---|---|---|---|\n",
       "| ENST00000419783 |   63.314179 |   43.97932 |   62.001933 |   45.084436 |\n",
       "| ENST00000643797 |    0.000000 |   24.17524 |    6.911643 |    0.000000 |\n",
       "| ENST00000651740 |   22.432606 |    0.00000 |    0.000000 |    0.000000 |\n",
       "| ENST00000457194 |    1.273328 |    0.00000 |    0.000000 |    0.000000 |\n",
       "| ENST00000390289 |    0.000000 |    0.00000 |   10.902861 |    5.568154 |\n",
       "| ENST00000361390 | 1639.969021 | 1648.77401 | 1528.241587 | 1595.848738 |\n",
       "\n"
      ],
      "text/plain": [
       "                EGF_1       EGF_2      PBS_1       PBS_2      \n",
       "ENST00000419783   63.314179   43.97932   62.001933   45.084436\n",
       "ENST00000643797    0.000000   24.17524    6.911643    0.000000\n",
       "ENST00000651740   22.432606    0.00000    0.000000    0.000000\n",
       "ENST00000457194    1.273328    0.00000    0.000000    0.000000\n",
       "ENST00000390289    0.000000    0.00000   10.902861    5.568154\n",
       "ENST00000361390 1639.969021 1648.77401 1528.241587 1595.848738"
      ]
     },
     "metadata": {},
     "output_type": "display_data"
    }
   ],
   "source": [
    "head(cts[rowSums(cts) > 1, ])"
   ]
  },
  {
   "cell_type": "markdown",
   "metadata": {},
   "source": [
    "For this analysis we use DRIMSeq, and the manual is [here](https://www.bioconductor.org/packages/release/bioc/vignettes/DRIMSeq/inst/doc/DRIMSeq.pdf)"
   ]
  },
  {
   "cell_type": "code",
   "execution_count": 12,
   "metadata": {},
   "outputs": [],
   "source": [
    "matching <- intersect(rownames(cts), tx2gene$transcript_id)"
   ]
  },
  {
   "cell_type": "code",
   "execution_count": 13,
   "metadata": {},
   "outputs": [],
   "source": [
    "gene_ids <- setNames(tx2gene$gene_id, tx2gene$transcript_id)"
   ]
  },
  {
   "cell_type": "code",
   "execution_count": 14,
   "metadata": {},
   "outputs": [],
   "source": [
    "counts <- base::data.frame(\n",
    "  gene_id = gene_ids[matching],\n",
    "  feature_id = matching,\n",
    "  cts[matching, ]\n",
    ")"
   ]
  },
  {
   "cell_type": "markdown",
   "metadata": {},
   "source": [
    "# Now we write the experimental design matrix"
   ]
  },
  {
   "cell_type": "code",
   "execution_count": 15,
   "metadata": {},
   "outputs": [
    {
     "data": {
      "text/html": [
       "<table class=\"dataframe\">\n",
       "<caption>A data.frame: 6 × 6</caption>\n",
       "<thead>\n",
       "\t<tr><th></th><th scope=col>gene_id</th><th scope=col>feature_id</th><th scope=col>EGF_1</th><th scope=col>EGF_2</th><th scope=col>PBS_1</th><th scope=col>PBS_2</th></tr>\n",
       "\t<tr><th></th><th scope=col>&lt;chr&gt;</th><th scope=col>&lt;chr&gt;</th><th scope=col>&lt;dbl&gt;</th><th scope=col>&lt;dbl&gt;</th><th scope=col>&lt;dbl&gt;</th><th scope=col>&lt;dbl&gt;</th></tr>\n",
       "</thead>\n",
       "<tbody>\n",
       "\t<tr><th scope=row>ENST00000434970</th><td>ENSG00000237235</td><td>ENST00000434970</td><td>0</td><td>0</td><td>0</td><td>0</td></tr>\n",
       "\t<tr><th scope=row>ENST00000448914</th><td>ENSG00000228985</td><td>ENST00000448914</td><td>0</td><td>0</td><td>0</td><td>0</td></tr>\n",
       "\t<tr><th scope=row>ENST00000415118</th><td>ENSG00000223997</td><td>ENST00000415118</td><td>0</td><td>0</td><td>0</td><td>0</td></tr>\n",
       "\t<tr><th scope=row>ENST00000604446</th><td>ENSG00000270824</td><td>ENST00000604446</td><td>0</td><td>0</td><td>0</td><td>0</td></tr>\n",
       "\t<tr><th scope=row>ENST00000603693</th><td>ENSG00000270451</td><td>ENST00000603693</td><td>0</td><td>0</td><td>0</td><td>0</td></tr>\n",
       "\t<tr><th scope=row>ENST00000603935</th><td>ENSG00000282089</td><td>ENST00000603935</td><td>0</td><td>0</td><td>0</td><td>0</td></tr>\n",
       "</tbody>\n",
       "</table>\n"
      ],
      "text/latex": [
       "A data.frame: 6 × 6\n",
       "\\begin{tabular}{r|llllll}\n",
       "  & gene\\_id & feature\\_id & EGF\\_1 & EGF\\_2 & PBS\\_1 & PBS\\_2\\\\\n",
       "  & <chr> & <chr> & <dbl> & <dbl> & <dbl> & <dbl>\\\\\n",
       "\\hline\n",
       "\tENST00000434970 & ENSG00000237235 & ENST00000434970 & 0 & 0 & 0 & 0\\\\\n",
       "\tENST00000448914 & ENSG00000228985 & ENST00000448914 & 0 & 0 & 0 & 0\\\\\n",
       "\tENST00000415118 & ENSG00000223997 & ENST00000415118 & 0 & 0 & 0 & 0\\\\\n",
       "\tENST00000604446 & ENSG00000270824 & ENST00000604446 & 0 & 0 & 0 & 0\\\\\n",
       "\tENST00000603693 & ENSG00000270451 & ENST00000603693 & 0 & 0 & 0 & 0\\\\\n",
       "\tENST00000603935 & ENSG00000282089 & ENST00000603935 & 0 & 0 & 0 & 0\\\\\n",
       "\\end{tabular}\n"
      ],
      "text/markdown": [
       "\n",
       "A data.frame: 6 × 6\n",
       "\n",
       "| <!--/--> | gene_id &lt;chr&gt; | feature_id &lt;chr&gt; | EGF_1 &lt;dbl&gt; | EGF_2 &lt;dbl&gt; | PBS_1 &lt;dbl&gt; | PBS_2 &lt;dbl&gt; |\n",
       "|---|---|---|---|---|---|---|\n",
       "| ENST00000434970 | ENSG00000237235 | ENST00000434970 | 0 | 0 | 0 | 0 |\n",
       "| ENST00000448914 | ENSG00000228985 | ENST00000448914 | 0 | 0 | 0 | 0 |\n",
       "| ENST00000415118 | ENSG00000223997 | ENST00000415118 | 0 | 0 | 0 | 0 |\n",
       "| ENST00000604446 | ENSG00000270824 | ENST00000604446 | 0 | 0 | 0 | 0 |\n",
       "| ENST00000603693 | ENSG00000270451 | ENST00000603693 | 0 | 0 | 0 | 0 |\n",
       "| ENST00000603935 | ENSG00000282089 | ENST00000603935 | 0 | 0 | 0 | 0 |\n",
       "\n"
      ],
      "text/plain": [
       "                gene_id         feature_id      EGF_1 EGF_2 PBS_1 PBS_2\n",
       "ENST00000434970 ENSG00000237235 ENST00000434970 0     0     0     0    \n",
       "ENST00000448914 ENSG00000228985 ENST00000448914 0     0     0     0    \n",
       "ENST00000415118 ENSG00000223997 ENST00000415118 0     0     0     0    \n",
       "ENST00000604446 ENSG00000270824 ENST00000604446 0     0     0     0    \n",
       "ENST00000603693 ENSG00000270451 ENST00000603693 0     0     0     0    \n",
       "ENST00000603935 ENSG00000282089 ENST00000603935 0     0     0     0    "
      ]
     },
     "metadata": {},
     "output_type": "display_data"
    }
   ],
   "source": [
    "head(counts)"
   ]
  },
  {
   "cell_type": "code",
   "execution_count": 16,
   "metadata": {},
   "outputs": [],
   "source": [
    "samples <- base::data.frame(sample_id =  make.names(colnames(cts)))\n",
    "samples$condition <- str_split(samples$sample_id, '_', simplify = TRUE)[, 1]"
   ]
  },
  {
   "cell_type": "code",
   "execution_count": 17,
   "metadata": {},
   "outputs": [
    {
     "data": {
      "text/html": [
       "<table class=\"dataframe\">\n",
       "<caption>A data.frame: 4 × 2</caption>\n",
       "<thead>\n",
       "\t<tr><th scope=col>sample_id</th><th scope=col>condition</th></tr>\n",
       "\t<tr><th scope=col>&lt;chr&gt;</th><th scope=col>&lt;chr&gt;</th></tr>\n",
       "</thead>\n",
       "<tbody>\n",
       "\t<tr><td>EGF_1</td><td>EGF</td></tr>\n",
       "\t<tr><td>EGF_2</td><td>EGF</td></tr>\n",
       "\t<tr><td>PBS_1</td><td>PBS</td></tr>\n",
       "\t<tr><td>PBS_2</td><td>PBS</td></tr>\n",
       "</tbody>\n",
       "</table>\n"
      ],
      "text/latex": [
       "A data.frame: 4 × 2\n",
       "\\begin{tabular}{ll}\n",
       " sample\\_id & condition\\\\\n",
       " <chr> & <chr>\\\\\n",
       "\\hline\n",
       "\t EGF\\_1 & EGF\\\\\n",
       "\t EGF\\_2 & EGF\\\\\n",
       "\t PBS\\_1 & PBS\\\\\n",
       "\t PBS\\_2 & PBS\\\\\n",
       "\\end{tabular}\n"
      ],
      "text/markdown": [
       "\n",
       "A data.frame: 4 × 2\n",
       "\n",
       "| sample_id &lt;chr&gt; | condition &lt;chr&gt; |\n",
       "|---|---|\n",
       "| EGF_1 | EGF |\n",
       "| EGF_2 | EGF |\n",
       "| PBS_1 | PBS |\n",
       "| PBS_2 | PBS |\n",
       "\n"
      ],
      "text/plain": [
       "  sample_id condition\n",
       "1 EGF_1     EGF      \n",
       "2 EGF_2     EGF      \n",
       "3 PBS_1     PBS      \n",
       "4 PBS_2     PBS      "
      ]
     },
     "metadata": {},
     "output_type": "display_data"
    }
   ],
   "source": [
    "samples"
   ]
  },
  {
   "cell_type": "markdown",
   "metadata": {},
   "source": [
    "Here we use DRIMSeq to model the usage of trascripts on the two conditions.\n",
    "Next cell filter transcripts that have a low abundace:"
   ]
  },
  {
   "cell_type": "code",
   "execution_count": 29,
   "metadata": {},
   "outputs": [],
   "source": [
    "library(DRIMSeq)\n",
    "    \n",
    "d <- dmDSdata(counts = counts, samples = samples)\n",
    "d <- dmFilter(\n",
    "  d,\n",
    "  min_feature_expr = 30,\n",
    "  min_feature_prop = 0.3,\n",
    "  min_samps_gene_expr = 2,\n",
    "  min_gene_expr = 50\n",
    ")"
   ]
  },
  {
   "cell_type": "code",
   "execution_count": 34,
   "metadata": {},
   "outputs": [
    {
     "data": {
      "text/html": [
       "680"
      ],
      "text/latex": [
       "680"
      ],
      "text/markdown": [
       "680"
      ],
      "text/plain": [
       "[1] 680"
      ]
     },
     "metadata": {},
     "output_type": "display_data"
    }
   ],
   "source": [
    "# Number of genes\n",
    "length(d@counts)"
   ]
  },
  {
   "cell_type": "code",
   "execution_count": 35,
   "metadata": {},
   "outputs": [
    {
     "data": {
      "text/html": [
       "13888"
      ],
      "text/latex": [
       "13888"
      ],
      "text/markdown": [
       "13888"
      ],
      "text/plain": [
       "[1] 13888"
      ]
     },
     "metadata": {},
     "output_type": "display_data"
    }
   ],
   "source": [
    "# Number of transcripts\n",
    "sum(lengths(d@counts))"
   ]
  },
  {
   "cell_type": "code",
   "execution_count": 36,
   "metadata": {},
   "outputs": [],
   "source": [
    "design_full <- model.matrix(~condition, data = samples(d))"
   ]
  },
  {
   "cell_type": "code",
   "execution_count": null,
   "metadata": {},
   "outputs": [
    {
     "name": "stderr",
     "output_type": "stream",
     "text": [
      "! Using a subset of 0.001 genes to estimate common precision !\n",
      "\n",
      "\n",
      "! Using common_precision = 995.2027 as prec_init !\n",
      "\n",
      "\n"
     ]
    }
   ],
   "source": [
    "d <- dmPrecision(d, design = design_full, prec_subset=0.001)"
   ]
  },
  {
   "cell_type": "code",
   "execution_count": null,
   "metadata": {},
   "outputs": [],
   "source": [
    "plotData(d)"
   ]
  },
  {
   "cell_type": "code",
   "execution_count": null,
   "metadata": {},
   "outputs": [],
   "source": [
    "d <- dmFit(d, design = design_full, verbose = 1)"
   ]
  },
  {
   "cell_type": "code",
   "execution_count": null,
   "metadata": {},
   "outputs": [],
   "source": [
    "d <- dmTest(d, coef = \"conditionEGF\", verbose = 1)"
   ]
  },
  {
   "cell_type": "code",
   "execution_count": null,
   "metadata": {},
   "outputs": [],
   "source": [
    "head(results(d))"
   ]
  },
  {
   "cell_type": "code",
   "execution_count": null,
   "metadata": {},
   "outputs": [],
   "source": [
    "res <-  dplyr::filter(results(d), adj_pvalue < 0.05)"
   ]
  },
  {
   "cell_type": "code",
   "execution_count": null,
   "metadata": {},
   "outputs": [],
   "source": [
    "head(res)"
   ]
  },
  {
   "cell_type": "code",
   "execution_count": null,
   "metadata": {},
   "outputs": [],
   "source": [
    "res <-  dplyr::filter(results(d), pvalue < 0.05)"
   ]
  },
  {
   "cell_type": "code",
   "execution_count": null,
   "metadata": {},
   "outputs": [],
   "source": [
    "head(dplyr::arrange(res, adj_pvalue))"
   ]
  },
  {
   "cell_type": "code",
   "execution_count": null,
   "metadata": {},
   "outputs": [],
   "source": [
    "p <- plotProportions(\n",
    "    d, plot_type = 'boxplot2', gene_id = 'ENSG00000160752', group_variable = \"condition\")"
   ]
  },
  {
   "cell_type": "code",
   "execution_count": null,
   "metadata": {},
   "outputs": [],
   "source": [
    "plot(p)"
   ]
  },
  {
   "cell_type": "code",
   "execution_count": null,
   "metadata": {},
   "outputs": [],
   "source": []
  },
  {
   "cell_type": "code",
   "execution_count": null,
   "metadata": {},
   "outputs": [],
   "source": []
  }
 ],
 "metadata": {
  "kernelspec": {
   "display_name": "R",
   "language": "R",
   "name": "module_r"
  },
  "language_info": {
   "codemirror_mode": "r",
   "file_extension": ".r",
   "mimetype": "text/x-r-source",
   "name": "R",
   "pygments_lexer": "r",
   "version": "4.0.5"
  }
 },
 "nbformat": 4,
 "nbformat_minor": 4
}

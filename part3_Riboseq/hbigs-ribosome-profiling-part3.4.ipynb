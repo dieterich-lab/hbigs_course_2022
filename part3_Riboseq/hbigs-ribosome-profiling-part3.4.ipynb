{
 "cells": [
  {
   "cell_type": "markdown",
   "metadata": {},
   "source": [
    "# Part 3.4: Introduction to transcriptome-wide analysis of translational efficiency\n",
    "\n",
    "## Sections:\n",
    "   - 3.4.1 Translational efficiency, translational control, and biological relevance.\n",
    "   - 3.4.2 Bioinformatics perspective: software and models for TE analysis (high-level introduction).\n",
    "\n",
    "## Questions & Objectives:\n",
    "   - What is translational control, how RNA- and Ribo-seq together overcome limitations of classical expression studies (RNA-seq alone).\n",
    "   - Where to start if I have matched RNA- and Ribo-seq data and a simple experimental design (treated vs. control)?\n",
    "\n",
    "## After I will be able to:\n",
    "   - Have a better understanding of how to quantify translational control, and how to use and visualise the results.    \n",
    "   "
   ]
  },
  {
   "cell_type": "markdown",
   "metadata": {},
   "source": [
    "## 3.4.1 Translational efficiency, translational control, and biological relevance\n",
    "\n",
    "An important measure of translational control is translational efficiency (TE), defined as the level of protein production per mRNA. We generally assume that TE measures translation initiation efficiency in the steady state, and that it is in fact the rate-limiting factor for translation.\n",
    "\n",
    "In practice (and in the literature), TE is calculated as the ratio of the ribosome density from Ribo-seq to the mRNA abundance, measured by RNA-seq. Since the Ribo-seq counts mapped on the coding region of a given gene depends on both the mRNA abundance and its rate of translation, in a comparison between two conditions, differential translation can be characterized by the dissimilarity between the changes in RNA-seq and Ribo-seq counts across the two conditions. \n",
    "\n",
    "Increased translation could be due to many different factors, including an increase in the abundance of the protein-coding transcript, an increase in translation efficiency due to increased number of ribosomes binding to each transcript, the rate at which the ribosomes move along the transcript, or a combination of these factors. In general, we differentiate between *transcriptional regulation*, where both RNA-seq and Ribo-seq are concordant, and *translational regulation*, where only Ribo-seq is significant.\n",
    "\n",
    "It is now recognised that the correlation between transcript abundance and protein levels is generally poor, which is partly due to the regulation of gene expression at the level of translation. This kind of analysis thus provide a more accurate and complete picture of gene expression, as that traditionally given by RNA-seq alone. This is important particularly *e.g.* in experimental time series designs, where transcriptional and translational regulation can vary over time, and thus reveal dynamic aspects of gene expression.\n",
    "\n",
    "\n",
    "## 3.4.2 Bioinformatics perspective: software and models for TE analysis (high-level introduction).\n",
    "\n",
    "A number of dedicated tools exist to perform TE analysis: Babel, Riborex, RiboDiff (negative-binomial-based GLM models), Xtail (negative binomial model, using DESeq2, estimates a posterior for TE), most recent Scikit-ribo (ribosome A-site prediction, TE inference using GLM with ridge penalty)\n",
    "\n",
    "Our workflow is based on the periodicity estimates made by `rpbp` (Part 3.1). We use the RNA-seq data, and trim the reads prior mapping to the maximum matching Ribo-seq fragment length (Ribo-seq samples are matched with RNA-seq samples). The count data is obtained by running `htseq-count`. We then calculate differences in TE as a ratio of ratios:"
   ]
  },
  {
   "cell_type": "markdown",
   "metadata": {},
   "source": [
    "%%latex\n",
    "\\begin{align}\n",
    "\\frac{\\left(\\frac{Ribo}{RNA}\\right)_{treated}}{\\left(\\frac{Ribo}{RNA}\\right)_{control}} = \\frac{\\left(\\frac{Ribo_{treated}}{Ribo_{control}}\\right)}{\\left(\\frac{RNA_{treated}}{RNA_{control}}\\right)}\n",
    "\\end{align}"
   ]
  },
  {
   "cell_type": "markdown",
   "metadata": {},
   "source": [
    "\n",
    "This is modeled in `DESeq2` using the design `~assay+condition+assay:condition`, where the interaction term `assay:condition` represents the ratio of ratios. We use the likelihood ratio test to test whether the translational efficiency is different in treatment *vs.* control.\n",
    "\n",
    "\n",
    "We have run the workflow on the course data, and we will explore the results below.\n"
   ]
  },
  {
   "cell_type": "markdown",
   "metadata": {},
   "source": [
    "***\n",
    "\n",
    "<div class=\"alert alert-block alert-danger\"><b>The cells below contain \"code\", so we will need to run them one after the other!</b></div>\n"
   ]
  },
  {
   "cell_type": "code",
   "execution_count": 156,
   "metadata": {
    "tags": []
   },
   "outputs": [],
   "source": [
    "import pandas as pd\n",
    "import numpy as np\n",
    "import os\n",
    "import yaml\n",
    "\n",
    "from collections import defaultdict\n",
    "\n",
    "from argparse import Namespace\n",
    "\n",
    "import pbio.misc.logging_utils as logging_utils\n",
    "import pbio.misc.mpl_utils as mpl_utils\n",
    "import pbio.ribo.ribo_utils as ribo_utils\n",
    "\n",
    "args = Namespace()\n",
    "logger = logging_utils.get_ipython_logger()"
   ]
  },
  {
   "cell_type": "code",
   "execution_count": 158,
   "metadata": {},
   "outputs": [
    {
     "name": "stdout",
     "output_type": "stream",
     "text": [
      "The autoreload extension is already loaded. To reload it, use:\n",
      "  %reload_ext autoreload\n"
     ]
    }
   ],
   "source": [
    "# graphics\n",
    "\n",
    "%load_ext autoreload\n",
    "%autoreload 2\n",
    "%matplotlib inline\n",
    "\n",
    "import matplotlib\n",
    "import matplotlib.ticker as mtick\n",
    "from matplotlib.font_manager import FontProperties\n",
    "import matplotlib.pyplot as plt\n",
    "from matplotlib.ticker import MultipleLocator\n",
    "\n",
    "import seaborn as sns\n",
    "sns.set({\"ytick.direction\": u'out'}, style='ticks') #color_codes=True, palette='muted')\n",
    "\n",
    "params = {\n",
    "   'axes.labelsize': 28,\n",
    "   'font.size': 28,\n",
    "   'legend.fontsize': 26,\n",
    "   'xtick.labelsize': 26,\n",
    "   'ytick.labelsize': 26,\n",
    "   \"lines.linewidth\": 2.5,\n",
    "   'text.usetex': True,\n",
    "   'figure.figsize': [12, 8],\n",
    "    'font.family': 'sans-serif',\n",
    "    'font.sans-serif': 'DejaVu Sans',\n",
    "    'mathtext.fontset': 'dejavusans'\n",
    "   }\n",
    "plt.rcParams.update(params)\n",
    "font = FontProperties().copy()\n",
    "\n",
    "args.fontsize = params['legend.fontsize']\n",
    "args.legend_fontsize = params['legend.fontsize']\n",
    "args.labelsize =params['axes.labelsize']\n",
    "\n",
    "import logging\n",
    "mpl_logger = logging.getLogger('matplotlib')\n",
    "mpl_logger.setLevel(logging.WARNING) \n",
    "\n",
    "logger = logging.getLogger(__name__)\n",
    "logger.setLevel(logging.WARNING) # root level"
   ]
  },
  {
   "cell_type": "code",
   "execution_count": 1,
   "metadata": {},
   "outputs": [],
   "source": [
    "# course year\n",
    "year = 2022"
   ]
  },
  {
   "cell_type": "code",
   "execution_count": 162,
   "metadata": {
    "tags": []
   },
   "outputs": [],
   "source": [
    "# the DGE (TE) results\n",
    "args.dirloc = f'/pub/hbigs_course_{year}/part3_Riboseq/dgeRiboHBIGS{year}-analysis/tables'\n",
    "\n",
    "# xlrd issues... (we don't want to mess with the install!)\n",
    "# args.results = 'condition_EGF_vs_PBS.xlsx' # we don't use the shrunken FC\n",
    "# df = pd.read_excel(os.path.join(args.dirloc, args.results), sheet_name='EGF_vs_PBS')\n",
    "\n",
    "args.results = 'condition_EGF_vs_PBS.csv' # we don't use the shrunken FC\n",
    "df = pd.read_csv(os.path.join(args.dirloc, args.results))"
   ]
  },
  {
   "cell_type": "code",
   "execution_count": 163,
   "metadata": {
    "tags": []
   },
   "outputs": [],
   "source": [
    "padj_thr = 0.1\n",
    "lfc_thr = np.log2(1.5)"
   ]
  },
  {
   "cell_type": "code",
   "execution_count": 164,
   "metadata": {
    "tags": []
   },
   "outputs": [],
   "source": [
    "m_padj_rna = df['padj.rna'] < padj_thr\n",
    "m_padj_ribo = df['padj.ribo'] < padj_thr\n",
    "m_padj_inter = df['padj.inter'] < padj_thr\n",
    "\n",
    "m_lfc_rna = abs(df['log2FC.rna']) >= lfc_thr\n",
    "m_lfc_ribo = abs(df['log2FC.ribo']) >= lfc_thr\n",
    "m_lfc_inter = abs(df['log2FC.inter']) >= lfc_thr\n",
    "\n",
    "df.loc[m_padj_rna & m_lfc_rna & ~(m_lfc_ribo & m_padj_ribo), 'hue'] = 'RNA only'\n",
    "df.loc[(m_padj_ribo & m_lfc_ribo) & ~(m_lfc_rna & m_padj_rna), 'hue'] = 'Ribo only'\n",
    "df.loc[m_padj_rna & m_padj_ribo & m_lfc_rna & m_lfc_ribo, 'hue'] = 'Concordant (RNA+Ribo)'\n",
    "\n",
    "df.loc[m_padj_inter & m_lfc_inter, 'hue'] = 'Interaction (translational regulation)'\n",
    "\n",
    "# doesn't matter, it's only for the style!\n",
    "df.loc[df['hue']=='Interaction (translational regulation)', 'style'] = 'cross'\n",
    "df.loc[~(df['hue']=='Interaction (translational regulation)'), 'style'] = 'dot'\n",
    "\n",
    "df.loc[df['hue'].isna(), 'hue'] = 'Unchanged' # not significant\n",
    "\n",
    "ho = {'Unchanged':'grey', \n",
    "      'Concordant (RNA+Ribo)': \n",
    "      'black', 'RNA only': 'blue', \n",
    "      'Ribo only': 'red', \n",
    "      'Interaction (translational regulation)': 'red'}\n"
   ]
  },
  {
   "cell_type": "code",
   "execution_count": 173,
   "metadata": {
    "tags": []
   },
   "outputs": [],
   "source": [
    "ax = plt.gca()\n",
    "\n",
    "g = sns.scatterplot(x=\"log2FC.rna\", \n",
    "                    y=\"log2FC.ribo\", \n",
    "                    hue=\"hue\", \n",
    "                    style='style', \n",
    "                    data=df, \n",
    "                    s=100, \n",
    "                    legend=False,\n",
    "                    palette=ho)\n",
    "# some tricks...!\n",
    "ax.spines['left'].set_position('zero')\n",
    "ax.spines['right'].set_color('none')\n",
    "ax.spines['bottom'].set_position('zero')\n",
    "ax.spines['top'].set_color('none')\n",
    "\n",
    "ax.yaxis.get_major_ticks()[2].label1.set_visible(False)\n",
    "ax.xaxis.get_major_ticks()[2].label1.set_visible(False)\n"
   ]
  },
  {
   "cell_type": "markdown",
   "metadata": {},
   "source": [
    "In the paper, they show that changes in protein synthesis correlated with variations in TE, with minimal change in RNA abundance for a certain classes of genes. In this cluster, there was a lot of ribosomal proteins and several translation initiation and elongation factors.\n",
    "\n",
    "Let's see what we get for the significant terms.\n"
   ]
  },
  {
   "cell_type": "code",
   "execution_count": 172,
   "metadata": {
    "tags": []
   },
   "outputs": [],
   "source": [
    "# get the interaction terms\n",
    "genes = df[m_padj_inter & m_lfc_inter].symbol.values\n",
    "for g in genes:\n",
    "    print(g)"
   ]
  },
  {
   "cell_type": "markdown",
   "metadata": {},
   "source": [
    "We can now briefly explore tools such as Gene Ontology (GO) enrichment analysis, pathway analysis, *etc.*\n",
    "Please copy the list of translationally regulate genes that we found above, and we will go to [Enrichr](https://amp.pharm.mssm.edu/Enrichr/).\n",
    "\n",
    "In the next part of the lecture (Part 4), you will explore in more details these aspects and more.\n"
   ]
  },
  {
   "cell_type": "markdown",
   "metadata": {},
   "source": [
    "\n",
    "***\n",
    "\n",
    "MIT License (code and scripts)\n",
    "\n",
    "Copyright (c) 2022 Etienne Boileau"
   ]
  }
 ],
 "metadata": {
  "anaconda-cloud": {},
  "kernelspec": {
   "display_name": "Python 3 (ipykernel)",
   "language": "python",
   "name": "python3"
  },
  "language_info": {
   "codemirror_mode": {
    "name": "ipython",
    "version": 3
   },
   "file_extension": ".py",
   "mimetype": "text/x-python",
   "name": "python",
   "nbconvert_exporter": "python",
   "pygments_lexer": "ipython3",
   "version": "3.7.3"
  }
 },
 "nbformat": 4,
 "nbformat_minor": 4
}
